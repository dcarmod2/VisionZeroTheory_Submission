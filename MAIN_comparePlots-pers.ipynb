{
 "cells": [
  {
   "cell_type": "markdown",
   "metadata": {},
   "source": [
    "### Comparative plot for Vision Zero Code ###\n",
    "by Richard Sowers\n",
    "\n",
    "* <r-sowers@illinois.edu>\n",
    "\n",
    "<https://publish.illinois.edu/r-sowers/>\n",
    "\n",
    "Copyright 2018 University of Illinois Board of Trustees. All Rights Reserved. Licensed under the MIT license"
   ]
  },
  {
   "cell_type": "markdown",
   "metadata": {},
   "source": [
    "imports"
   ]
  },
  {
   "cell_type": "code",
   "execution_count": 1,
   "metadata": {
    "scrolled": true
   },
   "outputs": [],
   "source": [
    "%matplotlib inline\n",
    "from matplotlib import pylab as plotter\n",
    "import pandas\n",
    "import numpy\n",
    "import importlib\n",
    "import MAIN_makeplots as makeplots\n",
    "import pickle\n",
    "import MAIN_config_hour_of_day_total as config\n",
    "#import MAIN_config_season as config"
   ]
  },
  {
   "cell_type": "markdown",
   "metadata": {},
   "source": [
    "External files"
   ]
  },
  {
   "cell_type": "code",
   "execution_count": 2,
   "metadata": {},
   "outputs": [],
   "source": [
    "dir_names=config.dirnames\n",
    "curvefigfile=\"curve_pers.png\"\n",
    "scatterfigfile=\"scatter_pers.png\""
   ]
  },
  {
   "cell_type": "code",
   "execution_count": 3,
   "metadata": {},
   "outputs": [],
   "source": [
    "data = pandas.read_pickle('Pers/data.p')"
   ]
  },
  {
   "cell_type": "code",
   "execution_count": 4,
   "metadata": {},
   "outputs": [],
   "source": [
    "tradeoff = makeplots.tradeoff(data)"
   ]
  },
  {
   "cell_type": "code",
   "execution_count": 5,
   "metadata": {},
   "outputs": [],
   "source": [
    "points = tradeoff.curve()"
   ]
  },
  {
   "cell_type": "code",
   "execution_count": 6,
   "metadata": {},
   "outputs": [
    {
     "data": {
      "image/png": "[encoded data removed]",
      "text/plain": [
       "<Figure size 432x288 with 1 Axes>"
      ]
     },
     "metadata": {
      "needs_background": "light"
     },
     "output_type": "display_data"
    }
   ],
   "source": [
    "plotter.plot('rel_time','rel_APM',data=tradeoff.curve())\n",
    "\n",
    "plotter.scatter(points[\"rel_time\"],points[\"rel_APM\"])\n",
    "\n",
    "plotter.xlim(1,)\n",
    "plotter.title(\"Tradeoff between APM and trip time\",fontsize='xx-large')\n",
    "plotter.xlabel(\"normalized trip time ($\\\\bar\\\\tau_{\\\\alpha}$)\",fontsize='medium')\n",
    "plotter.ylabel(\"normalized accidents/meter ($\\\\bar\\sigma_{\\\\alpha}$)\",fontsize='medium')\n",
    "#legend2=plotter.legend((s1,s2,s3,s4),('$\\\\alpha=0.82$','$\\\\alpha=0.94$','$\\\\alpha=0.98$','$\\\\alpha=1.0$'),loc=3)\n",
    "#plotter.legend()\n",
    "#plotter.gca().add_artist(legend2)\n",
    "#plotter.savefig(curvefigfile,bbox_inches='tight')\n",
    "plotter.show()\n",
    "plotter.close()"
   ]
  },
  {
   "cell_type": "code",
   "execution_count": 7,
   "metadata": {},
   "outputs": [],
   "source": [
    "points = points.sort_values(by='rel_time')"
   ]
  },
  {
   "cell_type": "code",
   "execution_count": 8,
   "metadata": {},
   "outputs": [
    {
     "data": {
      "text/html": [
       "<div>\n",
       "<style scoped>\n",
       "    .dataframe tbody tr th:only-of-type {\n",
       "        vertical-align: middle;\n",
       "    }\n",
       "\n",
       "    .dataframe tbody tr th {\n",
       "        vertical-align: top;\n",
       "    }\n",
       "\n",
       "    .dataframe thead th {\n",
       "        text-align: right;\n",
       "    }\n",
       "</style>\n",
       "<table border=\"1\" class=\"dataframe\">\n",
       "  <thead>\n",
       "    <tr style=\"text-align: right;\">\n",
       "      <th></th>\n",
       "      <th>rel_time</th>\n",
       "      <th>rel_APM</th>\n",
       "    </tr>\n",
       "  </thead>\n",
       "  <tbody>\n",
       "    <tr>\n",
       "      <th>0.000000</th>\n",
       "      <td>1.000000</td>\n",
       "      <td>1.000000</td>\n",
       "    </tr>\n",
       "    <tr>\n",
       "      <th>0.452440</th>\n",
       "      <td>1.000186</td>\n",
       "      <td>0.994303</td>\n",
       "    </tr>\n",
       "    <tr>\n",
       "      <th>0.612664</th>\n",
       "      <td>1.000832</td>\n",
       "      <td>0.987313</td>\n",
       "    </tr>\n",
       "    <tr>\n",
       "      <th>0.820619</th>\n",
       "      <td>1.004241</td>\n",
       "      <td>0.973452</td>\n",
       "    </tr>\n",
       "    <tr>\n",
       "      <th>0.875026</th>\n",
       "      <td>1.008479</td>\n",
       "      <td>0.962545</td>\n",
       "    </tr>\n",
       "    <tr>\n",
       "      <th>0.914514</th>\n",
       "      <td>1.015106</td>\n",
       "      <td>0.951443</td>\n",
       "    </tr>\n",
       "    <tr>\n",
       "      <th>0.936448</th>\n",
       "      <td>1.021329</td>\n",
       "      <td>0.943673</td>\n",
       "    </tr>\n",
       "    <tr>\n",
       "      <th>0.956258</th>\n",
       "      <td>1.029335</td>\n",
       "      <td>0.936196</td>\n",
       "    </tr>\n",
       "    <tr>\n",
       "      <th>0.961825</th>\n",
       "      <td>1.034073</td>\n",
       "      <td>0.931654</td>\n",
       "    </tr>\n",
       "    <tr>\n",
       "      <th>0.967391</th>\n",
       "      <td>1.042576</td>\n",
       "      <td>0.923710</td>\n",
       "    </tr>\n",
       "    <tr>\n",
       "      <th>0.969930</th>\n",
       "      <td>1.045473</td>\n",
       "      <td>0.921730</td>\n",
       "    </tr>\n",
       "    <tr>\n",
       "      <th>0.971831</th>\n",
       "      <td>1.053242</td>\n",
       "      <td>0.915387</td>\n",
       "    </tr>\n",
       "    <tr>\n",
       "      <th>0.973732</th>\n",
       "      <td>1.060084</td>\n",
       "      <td>0.912036</td>\n",
       "    </tr>\n",
       "    <tr>\n",
       "      <th>0.977534</th>\n",
       "      <td>1.066440</td>\n",
       "      <td>0.908194</td>\n",
       "    </tr>\n",
       "    <tr>\n",
       "      <th>0.980902</th>\n",
       "      <td>1.075892</td>\n",
       "      <td>0.902537</td>\n",
       "    </tr>\n",
       "    <tr>\n",
       "      <th>0.982586</th>\n",
       "      <td>1.080496</td>\n",
       "      <td>0.899845</td>\n",
       "    </tr>\n",
       "    <tr>\n",
       "      <th>0.984270</th>\n",
       "      <td>1.089392</td>\n",
       "      <td>0.894169</td>\n",
       "    </tr>\n",
       "    <tr>\n",
       "      <th>0.984697</th>\n",
       "      <td>1.101688</td>\n",
       "      <td>0.889172</td>\n",
       "    </tr>\n",
       "    <tr>\n",
       "      <th>0.985123</th>\n",
       "      <td>1.113315</td>\n",
       "      <td>0.884240</td>\n",
       "    </tr>\n",
       "    <tr>\n",
       "      <th>0.985976</th>\n",
       "      <td>1.115836</td>\n",
       "      <td>0.882961</td>\n",
       "    </tr>\n",
       "    <tr>\n",
       "      <th>0.986830</th>\n",
       "      <td>1.125437</td>\n",
       "      <td>0.879163</td>\n",
       "    </tr>\n",
       "    <tr>\n",
       "      <th>0.987683</th>\n",
       "      <td>1.129318</td>\n",
       "      <td>0.876852</td>\n",
       "    </tr>\n",
       "    <tr>\n",
       "      <th>0.989450</th>\n",
       "      <td>1.138796</td>\n",
       "      <td>0.872944</td>\n",
       "    </tr>\n",
       "    <tr>\n",
       "      <th>0.991217</th>\n",
       "      <td>1.148355</td>\n",
       "      <td>0.868241</td>\n",
       "    </tr>\n",
       "    <tr>\n",
       "      <th>0.993805</th>\n",
       "      <td>1.158654</td>\n",
       "      <td>0.864135</td>\n",
       "    </tr>\n",
       "    <tr>\n",
       "      <th>0.996394</th>\n",
       "      <td>1.170360</td>\n",
       "      <td>0.859423</td>\n",
       "    </tr>\n",
       "    <tr>\n",
       "      <th>0.997296</th>\n",
       "      <td>1.174757</td>\n",
       "      <td>0.857907</td>\n",
       "    </tr>\n",
       "    <tr>\n",
       "      <th>0.997746</th>\n",
       "      <td>1.178186</td>\n",
       "      <td>0.856701</td>\n",
       "    </tr>\n",
       "    <tr>\n",
       "      <th>0.997972</th>\n",
       "      <td>1.181966</td>\n",
       "      <td>0.855104</td>\n",
       "    </tr>\n",
       "    <tr>\n",
       "      <th>0.998084</th>\n",
       "      <td>1.182038</td>\n",
       "      <td>0.855066</td>\n",
       "    </tr>\n",
       "    <tr>\n",
       "      <th>0.998141</th>\n",
       "      <td>1.196211</td>\n",
       "      <td>0.851313</td>\n",
       "    </tr>\n",
       "    <tr>\n",
       "      <th>0.998197</th>\n",
       "      <td>1.196913</td>\n",
       "      <td>0.851124</td>\n",
       "    </tr>\n",
       "    <tr>\n",
       "      <th>0.998422</th>\n",
       "      <td>1.201504</td>\n",
       "      <td>0.849547</td>\n",
       "    </tr>\n",
       "    <tr>\n",
       "      <th>0.998451</th>\n",
       "      <td>1.201765</td>\n",
       "      <td>0.849460</td>\n",
       "    </tr>\n",
       "    <tr>\n",
       "      <th>0.998458</th>\n",
       "      <td>1.214131</td>\n",
       "      <td>0.846518</td>\n",
       "    </tr>\n",
       "    <tr>\n",
       "      <th>0.998465</th>\n",
       "      <td>1.223261</td>\n",
       "      <td>0.844446</td>\n",
       "    </tr>\n",
       "    <tr>\n",
       "      <th>0.998479</th>\n",
       "      <td>1.223261</td>\n",
       "      <td>0.844446</td>\n",
       "    </tr>\n",
       "    <tr>\n",
       "      <th>0.998535</th>\n",
       "      <td>1.223261</td>\n",
       "      <td>0.844446</td>\n",
       "    </tr>\n",
       "    <tr>\n",
       "      <th>0.998648</th>\n",
       "      <td>1.223575</td>\n",
       "      <td>0.844403</td>\n",
       "    </tr>\n",
       "    <tr>\n",
       "      <th>0.999099</th>\n",
       "      <td>1.227720</td>\n",
       "      <td>0.842468</td>\n",
       "    </tr>\n",
       "    <tr>\n",
       "      <th>1.000000</th>\n",
       "      <td>1.227720</td>\n",
       "      <td>0.842468</td>\n",
       "    </tr>\n",
       "  </tbody>\n",
       "</table>\n",
       "</div>"
      ],
      "text/plain": [
       "          rel_time   rel_APM\n",
       "0.000000  1.000000  1.000000\n",
       "0.452440  1.000186  0.994303\n",
       "0.612664  1.000832  0.987313\n",
       "0.820619  1.004241  0.973452\n",
       "0.875026  1.008479  0.962545\n",
       "0.914514  1.015106  0.951443\n",
       "0.936448  1.021329  0.943673\n",
       "0.956258  1.029335  0.936196\n",
       "0.961825  1.034073  0.931654\n",
       "0.967391  1.042576  0.923710\n",
       "0.969930  1.045473  0.921730\n",
       "0.971831  1.053242  0.915387\n",
       "0.973732  1.060084  0.912036\n",
       "0.977534  1.066440  0.908194\n",
       "0.980902  1.075892  0.902537\n",
       "0.982586  1.080496  0.899845\n",
       "0.984270  1.089392  0.894169\n",
       "0.984697  1.101688  0.889172\n",
       "0.985123  1.113315  0.884240\n",
       "0.985976  1.115836  0.882961\n",
       "0.986830  1.125437  0.879163\n",
       "0.987683  1.129318  0.876852\n",
       "0.989450  1.138796  0.872944\n",
       "0.991217  1.148355  0.868241\n",
       "0.993805  1.158654  0.864135\n",
       "0.996394  1.170360  0.859423\n",
       "0.997296  1.174757  0.857907\n",
       "0.997746  1.178186  0.856701\n",
       "0.997972  1.181966  0.855104\n",
       "0.998084  1.182038  0.855066\n",
       "0.998141  1.196211  0.851313\n",
       "0.998197  1.196913  0.851124\n",
       "0.998422  1.201504  0.849547\n",
       "0.998451  1.201765  0.849460\n",
       "0.998458  1.214131  0.846518\n",
       "0.998465  1.223261  0.844446\n",
       "0.998479  1.223261  0.844446\n",
       "0.998535  1.223261  0.844446\n",
       "0.998648  1.223575  0.844403\n",
       "0.999099  1.227720  0.842468\n",
       "1.000000  1.227720  0.842468"
      ]
     },
     "execution_count": 8,
     "metadata": {},
     "output_type": "execute_result"
    }
   ],
   "source": [
    "points"
   ]
  },
  {
   "cell_type": "code",
   "execution_count": 9,
   "metadata": {},
   "outputs": [],
   "source": [
    "distList = [0.0] + [numpy.linalg.norm(points.iloc[i+1,:]-points.iloc[i,:]) for i in range(0,len(points)-1)]"
   ]
  },
  {
   "cell_type": "code",
   "execution_count": 10,
   "metadata": {},
   "outputs": [
    {
     "data": {
      "text/plain": [
       "[0.0,\n",
       " 0.005699542841129708,\n",
       " 0.007019931143560648,\n",
       " 0.014274304709135757,\n",
       " 0.0117017287109378,\n",
       " 0.012929317935029494,\n",
       " 0.009954586110715404,\n",
       " 0.010954841476005629,\n",
       " 0.006563772766610505,\n",
       " 0.01163639023672642,\n",
       " 0.0035083596632641168,\n",
       " 0.010029818475535409,\n",
       " 0.007618712949702706,\n",
       " 0.0074270373303772915,\n",
       " 0.01101512103590619,\n",
       " 0.005332745933632017,\n",
       " 0.010552952865367523,\n",
       " 0.013272781513683756,\n",
       " 0.012629537667060096,\n",
       " 0.0028269458412430804,\n",
       " 0.010324760234819687,\n",
       " 0.004517309785314458,\n",
       " 0.01025216400466704,\n",
       " 0.010653509689649593,\n",
       " 0.011086511447955305,\n",
       " 0.01261857079518452,\n",
       " 0.004651610264631901,\n",
       " 0.0036344330395714232,\n",
       " 0.004104474394854511,\n",
       " 8.083074823178809e-05,\n",
       " 0.014661686488547496,\n",
       " 0.0007264808813038791,\n",
       " 0.004854677641985142,\n",
       " 0.00027539192574027306,\n",
       " 0.012711007608357309,\n",
       " 0.0093616205567428,\n",
       " 0.0,\n",
       " 0.0,\n",
       " 0.00031766249479490684,\n",
       " 0.00457449297884466,\n",
       " 0.0]"
      ]
     },
     "execution_count": 10,
     "metadata": {},
     "output_type": "execute_result"
    }
   ],
   "source": [
    "distList"
   ]
  },
  {
   "cell_type": "code",
   "execution_count": 11,
   "metadata": {},
   "outputs": [],
   "source": [
    "cursum = 0\n",
    "runningSums = []\n",
    "for dist in distList:\n",
    "\tcursum += dist\n",
    "\trunningSums.append(cursum)\n",
    "\n",
    "totalLength = runningSums[-1]"
   ]
  },
  {
   "cell_type": "code",
   "execution_count": 12,
   "metadata": {},
   "outputs": [
    {
     "data": {
      "text/plain": [
       "0.04321124836608395"
      ]
     },
     "execution_count": 12,
     "metadata": {},
     "output_type": "execute_result"
    }
   ],
   "source": [
    "(runningSums[2])/runningSums[-1]"
   ]
  },
  {
   "cell_type": "code",
   "execution_count": 13,
   "metadata": {},
   "outputs": [
    {
     "data": {
      "text/plain": [
       "41"
      ]
     },
     "execution_count": 13,
     "metadata": {},
     "output_type": "execute_result"
    }
   ],
   "source": [
    "len(data.keys())"
   ]
  },
  {
   "cell_type": "code",
   "execution_count": 14,
   "metadata": {},
   "outputs": [],
   "source": [
    "totTimeFrame = pandas.DataFrame(index = data[0].index)\n",
    "\n",
    "for alpha in sorted(data.keys()):\n",
    "    totTimeFrame = totTimeFrame.merge(data[alpha]['trip_time'],how='right',left_index=True,right_index=True)\n",
    "    \n"
   ]
  },
  {
   "cell_type": "code",
   "execution_count": 15,
   "metadata": {},
   "outputs": [],
   "source": [
    "totTimeFrame = totTimeFrame[~numpy.isnan(totTimeFrame.iloc[:,0])]"
   ]
  },
  {
   "cell_type": "code",
   "execution_count": 16,
   "metadata": {},
   "outputs": [
    {
     "data": {
      "text/html": [
       "<div>\n",
       "<style scoped>\n",
       "    .dataframe tbody tr th:only-of-type {\n",
       "        vertical-align: middle;\n",
       "    }\n",
       "\n",
       "    .dataframe tbody tr th {\n",
       "        vertical-align: top;\n",
       "    }\n",
       "\n",
       "    .dataframe thead th {\n",
       "        text-align: right;\n",
       "    }\n",
       "</style>\n",
       "<table border=\"1\" class=\"dataframe\">\n",
       "  <thead>\n",
       "    <tr style=\"text-align: right;\">\n",
       "      <th></th>\n",
       "      <th></th>\n",
       "      <th>trip_time_x</th>\n",
       "      <th>trip_time_y</th>\n",
       "      <th>trip_time_x</th>\n",
       "      <th>trip_time_y</th>\n",
       "      <th>trip_time_x</th>\n",
       "      <th>trip_time_y</th>\n",
       "      <th>trip_time_x</th>\n",
       "      <th>trip_time_y</th>\n",
       "      <th>trip_time_x</th>\n",
       "      <th>trip_time_y</th>\n",
       "      <th>...</th>\n",
       "      <th>trip_time_y</th>\n",
       "      <th>trip_time_x</th>\n",
       "      <th>trip_time_y</th>\n",
       "      <th>trip_time_x</th>\n",
       "      <th>trip_time_y</th>\n",
       "      <th>trip_time_x</th>\n",
       "      <th>trip_time_y</th>\n",
       "      <th>trip_time_x</th>\n",
       "      <th>trip_time_y</th>\n",
       "      <th>trip_time</th>\n",
       "    </tr>\n",
       "    <tr>\n",
       "      <th>origin_node</th>\n",
       "      <th>destination_node</th>\n",
       "      <th></th>\n",
       "      <th></th>\n",
       "      <th></th>\n",
       "      <th></th>\n",
       "      <th></th>\n",
       "      <th></th>\n",
       "      <th></th>\n",
       "      <th></th>\n",
       "      <th></th>\n",
       "      <th></th>\n",
       "      <th></th>\n",
       "      <th></th>\n",
       "      <th></th>\n",
       "      <th></th>\n",
       "      <th></th>\n",
       "      <th></th>\n",
       "      <th></th>\n",
       "      <th></th>\n",
       "      <th></th>\n",
       "      <th></th>\n",
       "      <th></th>\n",
       "    </tr>\n",
       "  </thead>\n",
       "  <tbody>\n",
       "    <tr>\n",
       "      <th rowspan=\"5\" valign=\"top\">42421728</th>\n",
       "      <th>42434160</th>\n",
       "      <td>325.976898</td>\n",
       "      <td>325.976898</td>\n",
       "      <td>325.976898</td>\n",
       "      <td>325.976898</td>\n",
       "      <td>325.976898</td>\n",
       "      <td>329.867583</td>\n",
       "      <td>329.867583</td>\n",
       "      <td>329.867583</td>\n",
       "      <td>329.867583</td>\n",
       "      <td>329.867583</td>\n",
       "      <td>...</td>\n",
       "      <td>329.867583</td>\n",
       "      <td>329.867583</td>\n",
       "      <td>329.867583</td>\n",
       "      <td>329.867583</td>\n",
       "      <td>329.867583</td>\n",
       "      <td>329.867583</td>\n",
       "      <td>329.867583</td>\n",
       "      <td>329.867583</td>\n",
       "      <td>329.867583</td>\n",
       "      <td>329.867583</td>\n",
       "    </tr>\n",
       "    <tr>\n",
       "      <th>42435295</th>\n",
       "      <td>403.042272</td>\n",
       "      <td>403.042272</td>\n",
       "      <td>403.042272</td>\n",
       "      <td>403.042272</td>\n",
       "      <td>403.042272</td>\n",
       "      <td>403.042272</td>\n",
       "      <td>403.042272</td>\n",
       "      <td>403.042272</td>\n",
       "      <td>403.042272</td>\n",
       "      <td>403.042272</td>\n",
       "      <td>...</td>\n",
       "      <td>403.042272</td>\n",
       "      <td>403.042272</td>\n",
       "      <td>403.042272</td>\n",
       "      <td>403.042272</td>\n",
       "      <td>403.042272</td>\n",
       "      <td>403.042272</td>\n",
       "      <td>403.042272</td>\n",
       "      <td>403.042272</td>\n",
       "      <td>403.042272</td>\n",
       "      <td>403.042272</td>\n",
       "    </tr>\n",
       "    <tr>\n",
       "      <th>42435317</th>\n",
       "      <td>163.689127</td>\n",
       "      <td>163.689127</td>\n",
       "      <td>163.689127</td>\n",
       "      <td>163.689127</td>\n",
       "      <td>163.689127</td>\n",
       "      <td>163.689127</td>\n",
       "      <td>163.689127</td>\n",
       "      <td>163.689127</td>\n",
       "      <td>163.689127</td>\n",
       "      <td>163.689127</td>\n",
       "      <td>...</td>\n",
       "      <td>163.689127</td>\n",
       "      <td>163.689127</td>\n",
       "      <td>163.689127</td>\n",
       "      <td>163.689127</td>\n",
       "      <td>163.689127</td>\n",
       "      <td>163.689127</td>\n",
       "      <td>163.689127</td>\n",
       "      <td>163.689127</td>\n",
       "      <td>163.689127</td>\n",
       "      <td>163.689127</td>\n",
       "    </tr>\n",
       "    <tr>\n",
       "      <th>42435323</th>\n",
       "      <td>139.602484</td>\n",
       "      <td>139.602484</td>\n",
       "      <td>139.602484</td>\n",
       "      <td>139.602484</td>\n",
       "      <td>139.602484</td>\n",
       "      <td>139.602484</td>\n",
       "      <td>139.602484</td>\n",
       "      <td>139.602484</td>\n",
       "      <td>139.602484</td>\n",
       "      <td>139.602484</td>\n",
       "      <td>...</td>\n",
       "      <td>139.602484</td>\n",
       "      <td>139.602484</td>\n",
       "      <td>139.602484</td>\n",
       "      <td>139.602484</td>\n",
       "      <td>139.602484</td>\n",
       "      <td>139.602484</td>\n",
       "      <td>139.602484</td>\n",
       "      <td>139.602484</td>\n",
       "      <td>139.602484</td>\n",
       "      <td>139.602484</td>\n",
       "    </tr>\n",
       "    <tr>\n",
       "      <th>42438963</th>\n",
       "      <td>404.944658</td>\n",
       "      <td>404.944658</td>\n",
       "      <td>404.944658</td>\n",
       "      <td>404.944658</td>\n",
       "      <td>404.944658</td>\n",
       "      <td>404.944658</td>\n",
       "      <td>404.944658</td>\n",
       "      <td>404.944658</td>\n",
       "      <td>404.944658</td>\n",
       "      <td>404.944658</td>\n",
       "      <td>...</td>\n",
       "      <td>404.944658</td>\n",
       "      <td>404.944658</td>\n",
       "      <td>404.944658</td>\n",
       "      <td>404.944658</td>\n",
       "      <td>404.944658</td>\n",
       "      <td>404.944658</td>\n",
       "      <td>404.944658</td>\n",
       "      <td>404.944658</td>\n",
       "      <td>404.944658</td>\n",
       "      <td>404.944658</td>\n",
       "    </tr>\n",
       "  </tbody>\n",
       "</table>\n",
       "<p>5 rows × 41 columns</p>\n",
       "</div>"
      ],
      "text/plain": [
       "                              trip_time_x  trip_time_y  trip_time_x  \\\n",
       "origin_node destination_node                                          \n",
       "42421728    42434160           325.976898   325.976898   325.976898   \n",
       "            42435295           403.042272   403.042272   403.042272   \n",
       "            42435317           163.689127   163.689127   163.689127   \n",
       "            42435323           139.602484   139.602484   139.602484   \n",
       "            42438963           404.944658   404.944658   404.944658   \n",
       "\n",
       "                              trip_time_y  trip_time_x  trip_time_y  \\\n",
       "origin_node destination_node                                          \n",
       "42421728    42434160           325.976898   325.976898   329.867583   \n",
       "            42435295           403.042272   403.042272   403.042272   \n",
       "            42435317           163.689127   163.689127   163.689127   \n",
       "            42435323           139.602484   139.602484   139.602484   \n",
       "            42438963           404.944658   404.944658   404.944658   \n",
       "\n",
       "                              trip_time_x  trip_time_y  trip_time_x  \\\n",
       "origin_node destination_node                                          \n",
       "42421728    42434160           329.867583   329.867583   329.867583   \n",
       "            42435295           403.042272   403.042272   403.042272   \n",
       "            42435317           163.689127   163.689127   163.689127   \n",
       "            42435323           139.602484   139.602484   139.602484   \n",
       "            42438963           404.944658   404.944658   404.944658   \n",
       "\n",
       "                              trip_time_y  ...  trip_time_y  trip_time_x  \\\n",
       "origin_node destination_node               ...                             \n",
       "42421728    42434160           329.867583  ...   329.867583   329.867583   \n",
       "            42435295           403.042272  ...   403.042272   403.042272   \n",
       "            42435317           163.689127  ...   163.689127   163.689127   \n",
       "            42435323           139.602484  ...   139.602484   139.602484   \n",
       "            42438963           404.944658  ...   404.944658   404.944658   \n",
       "\n",
       "                              trip_time_y  trip_time_x  trip_time_y  \\\n",
       "origin_node destination_node                                          \n",
       "42421728    42434160           329.867583   329.867583   329.867583   \n",
       "            42435295           403.042272   403.042272   403.042272   \n",
       "            42435317           163.689127   163.689127   163.689127   \n",
       "            42435323           139.602484   139.602484   139.602484   \n",
       "            42438963           404.944658   404.944658   404.944658   \n",
       "\n",
       "                              trip_time_x  trip_time_y  trip_time_x  \\\n",
       "origin_node destination_node                                          \n",
       "42421728    42434160           329.867583   329.867583   329.867583   \n",
       "            42435295           403.042272   403.042272   403.042272   \n",
       "            42435317           163.689127   163.689127   163.689127   \n",
       "            42435323           139.602484   139.602484   139.602484   \n",
       "            42438963           404.944658   404.944658   404.944658   \n",
       "\n",
       "                              trip_time_y   trip_time  \n",
       "origin_node destination_node                           \n",
       "42421728    42434160           329.867583  329.867583  \n",
       "            42435295           403.042272  403.042272  \n",
       "            42435317           163.689127  163.689127  \n",
       "            42435323           139.602484  139.602484  \n",
       "            42438963           404.944658  404.944658  \n",
       "\n",
       "[5 rows x 41 columns]"
      ]
     },
     "execution_count": 16,
     "metadata": {},
     "output_type": "execute_result"
    }
   ],
   "source": [
    "totTimeFrame.head()"
   ]
  },
  {
   "cell_type": "code",
   "execution_count": 17,
   "metadata": {},
   "outputs": [],
   "source": [
    "times = totTimeFrame.values"
   ]
  },
  {
   "cell_type": "code",
   "execution_count": 18,
   "metadata": {},
   "outputs": [
    {
     "data": {
      "text/plain": [
       "array([[ 325.97689841,  325.97689841,  325.97689841, ...,  329.86758309,\n",
       "         329.86758309,  329.86758309],\n",
       "       [ 403.04227202,  403.04227202,  403.04227202, ...,  403.04227202,\n",
       "         403.04227202,  403.04227202],\n",
       "       [ 163.68912676,  163.68912676,  163.68912676, ...,  163.68912676,\n",
       "         163.68912676,  163.68912676],\n",
       "       ...,\n",
       "       [ 348.39180117,  348.39180117,  348.39180117, ...,  375.13897075,\n",
       "         375.13897075,  375.13897075],\n",
       "       [1073.02697196, 1073.07473063, 1073.07473063, ..., 1103.3607667 ,\n",
       "        1103.3607667 , 1103.3607667 ],\n",
       "       [ 448.40412985,  448.40412985,  448.40412985, ...,  448.40412985,\n",
       "         448.40412985,  448.40412985]])"
      ]
     },
     "execution_count": 18,
     "metadata": {},
     "output_type": "execute_result"
    }
   ],
   "source": [
    "times"
   ]
  },
  {
   "cell_type": "code",
   "execution_count": 19,
   "metadata": {},
   "outputs": [],
   "source": [
    "differenced = numpy.hstack([(times[:,i] - times[:,i-1]).reshape((times.shape[0],1)) for i in range(1,times.shape[1])])"
   ]
  },
  {
   "cell_type": "code",
   "execution_count": 20,
   "metadata": {},
   "outputs": [
    {
     "data": {
      "text/plain": [
       "array([0.        , 0.        , 0.        , 0.        , 3.89068467,\n",
       "       0.        , 0.        , 0.        , 0.        , 0.        ,\n",
       "       0.        , 0.        , 0.        , 0.        , 0.        ,\n",
       "       0.        , 0.        , 0.        , 0.        , 0.        ,\n",
       "       0.        , 0.        , 0.        , 0.        , 0.        ,\n",
       "       0.        , 0.        , 0.        , 0.        , 0.        ,\n",
       "       0.        , 0.        , 0.        , 0.        , 0.        ,\n",
       "       0.        , 0.        , 0.        , 0.        , 0.        ])"
      ]
     },
     "execution_count": 20,
     "metadata": {},
     "output_type": "execute_result"
    }
   ],
   "source": [
    "differenced[0]"
   ]
  },
  {
   "cell_type": "code",
   "execution_count": 21,
   "metadata": {},
   "outputs": [],
   "source": [
    "alphaList = sorted(data.keys())\n",
    "sums = numpy.array(runningSums)\n",
    "def calc_pers(row):\n",
    "    res_array = numpy.zeros(len(alphaList))\n",
    "    cur_inds = [0]\n",
    "    for ind,element in enumerate(row):\n",
    "        if element == 0:\n",
    "            cur_inds.append(ind+1)\n",
    "        if element != 0 or ind == len(row)-1:\n",
    "            pers = numpy.sum(sums[cur_inds[-1]]-sums[cur_inds[0]])/sums[-1] #+ (sums[cur_inds[0]]-sums[cur_inds[0]-1])/(2*sums[-1])\n",
    "            res_array[cur_inds] = pers\n",
    "            cur_inds = [ind+1]\n",
    "    return res_array\n",
    "    "
   ]
  },
  {
   "cell_type": "code",
   "execution_count": 22,
   "metadata": {},
   "outputs": [
    {
     "data": {
      "text/plain": [
       "array([0.13145836, 0.13145836, 0.13145836, 0.13145836, 0.13145836,\n",
       "       0.8246175 , 0.8246175 , 0.8246175 , 0.8246175 , 0.8246175 ,\n",
       "       0.8246175 , 0.8246175 , 0.8246175 , 0.8246175 , 0.8246175 ,\n",
       "       0.8246175 , 0.8246175 , 0.8246175 , 0.8246175 , 0.8246175 ,\n",
       "       0.8246175 , 0.8246175 , 0.8246175 , 0.8246175 , 0.8246175 ,\n",
       "       0.8246175 , 0.8246175 , 0.8246175 , 0.8246175 , 0.8246175 ,\n",
       "       0.8246175 , 0.8246175 , 0.8246175 , 0.8246175 , 0.8246175 ,\n",
       "       0.8246175 , 0.8246175 , 0.8246175 , 0.8246175 , 0.8246175 ,\n",
       "       0.8246175 ])"
      ]
     },
     "execution_count": 22,
     "metadata": {},
     "output_type": "execute_result"
    }
   ],
   "source": [
    "calc_pers(differenced[0])"
   ]
  },
  {
   "cell_type": "code",
   "execution_count": 23,
   "metadata": {},
   "outputs": [],
   "source": [
    "pers_mat = numpy.apply_along_axis(calc_pers,-1,differenced)"
   ]
  },
  {
   "cell_type": "code",
   "execution_count": 24,
   "metadata": {},
   "outputs": [],
   "source": [
    "averaged_pers = numpy.mean(pers_mat,axis=0)"
   ]
  },
  {
   "cell_type": "code",
   "execution_count": 25,
   "metadata": {},
   "outputs": [
    {
     "data": {
      "text/plain": [
       "18"
      ]
     },
     "execution_count": 25,
     "metadata": {},
     "output_type": "execute_result"
    }
   ],
   "source": [
    "numpy.argmax(averaged_pers)"
   ]
  },
  {
   "cell_type": "code",
   "execution_count": 26,
   "metadata": {},
   "outputs": [
    {
     "data": {
      "text/plain": [
       "0.9851233098702956"
      ]
     },
     "execution_count": 26,
     "metadata": {},
     "output_type": "execute_result"
    }
   ],
   "source": [
    "alphaList[18]"
   ]
  },
  {
   "cell_type": "code",
   "execution_count": 27,
   "metadata": {},
   "outputs": [
    {
     "data": {
      "image/png": "[encoded data removed]",
      "text/plain": [
       "<Figure size 432x288 with 1 Axes>"
      ]
     },
     "metadata": {
      "needs_background": "light"
     },
     "output_type": "display_data"
    }
   ],
   "source": [
    "plotter.plot(alphaList,averaged_pers)\n",
    "plotter.title('Average persistence over all trips',fontsize='xx-large')\n",
    "plotter.xlabel('alpha')\n",
    "plotter.ylabel('Average Persistence')\n",
    "#plotter.grid(True)\n",
    "plotter.savefig('avg_pers.png',bbox_inches='tight')"
   ]
  },
  {
   "cell_type": "code",
   "execution_count": 10,
   "metadata": {},
   "outputs": [
    {
     "data": {
      "image/png": "[encoded data removed]",
      "text/plain": [
       "<Figure size 432x288 with 1 Axes>"
      ]
     },
     "metadata": {
      "needs_background": "light"
     },
     "output_type": "display_data"
    }
   ],
   "source": [
    "plotter.figure()\n",
    "for windowname,tradeoff in TradeoffDict.items():\n",
    "    scatterPoints=tradeoff.avoidancePoints()\n",
    "    xvals=scatterPoints[\"trip_time\"]\n",
    "    yvals=scatterPoints[\"trip_APM\"]\n",
    "    plotter.scatter(xvals,yvals,label=windowname)\n",
    "plotter.xlim(1,)\n",
    "plotter.title(\"APM vs trip time scatterplot\",fontsize='xx-large')\n",
    "plotter.xlabel(\"normalized trip time ($\\\\bar\\\\tau_{1.0}$)\",fontsize='medium')\n",
    "plotter.ylabel(\"normalized accidents/meter ($\\\\bar\\sigma_{1.0}$)\",fontsize='medium')\n",
    "plotter.legend()\n",
    "#plotter.savefig(scatterfigfile,bbox_inches='tight')\n",
    "plotter.show()\n",
    "plotter.close()"
   ]
  },
  {
   "cell_type": "code",
   "execution_count": null,
   "metadata": {},
   "outputs": [],
   "source": [
    "scatterPoints.head()\n",
    "anomPoints = scatterPoints[scatterPoints['trip_APM'] > 1]"
   ]
  },
  {
   "cell_type": "code",
   "execution_count": null,
   "metadata": {},
   "outputs": [],
   "source": [
    "import folium\n",
    "import folium.plugins\n",
    "import osmnx\n",
    "import networkx"
   ]
  },
  {
   "cell_type": "code",
   "execution_count": null,
   "metadata": {},
   "outputs": [],
   "source": [
    "Manhattan_center=(40.766045,-73.977784)\n",
    "#tiles=\"OpenStreetMap\"\n",
    "#tiles=\"CartoDBpositron\"\n",
    "#tiles=\"CartoDBdark_matter\"\n",
    "#tiles=\"StamenWatercolor\"\n",
    "#tiles=\"StamenToner\"\n",
    "tiles=\"StamenTerrain\""
   ]
  },
  {
   "cell_type": "code",
   "execution_count": null,
   "metadata": {},
   "outputs": [],
   "source": [
    "### for folium ###\n",
    "def getPoint(node):\n",
    "    try:\n",
    "        temp=G.node[node]\n",
    "        (lat,lng)=(temp[\"y\"],temp[\"x\"])\n",
    "        return (lat,lng)\n",
    "    except Exception:\n",
    "        return None"
   ]
  },
  {
   "cell_type": "code",
   "execution_count": null,
   "metadata": {},
   "outputs": [],
   "source": [
    "osmnx.config(log_file=True, log_console=True, use_cache=True)\n",
    "G_raw = osmnx.graph_from_place('Manhattan Island, New York, USA', network_type='drive')"
   ]
  },
  {
   "cell_type": "code",
   "execution_count": null,
   "metadata": {},
   "outputs": [],
   "source": [
    "G=G_raw.copy()"
   ]
  },
  {
   "cell_type": "code",
   "execution_count": null,
   "metadata": {},
   "outputs": [],
   "source": [
    "\n"
   ]
  },
  {
   "cell_type": "code",
   "execution_count": null,
   "metadata": {},
   "outputs": [],
   "source": [
    "fname=\"origins_mid\"\n",
    "my_map = folium.Map(Manhattan_center,\n",
    "                  zoom_start=12,\n",
    "                  tiles=tiles)\n",
    "for o,d in anomPoints.index:\n",
    "    olat,olon = getPoint(o)\n",
    "    dlat,dlon = getPoint(d)\n",
    "    folium.CircleMarker((olat,olon),radius=10,color='blue').add_to(my_map)\n",
    "    folium.CircleMarker((dlat,dlon),radius=10,color='red').add_to(my_map)\n",
    "my_map"
   ]
  },
  {
   "cell_type": "code",
   "execution_count": null,
   "metadata": {},
   "outputs": [],
   "source": []
  }
 ],
 "metadata": {
  "kernelspec": {
   "display_name": "Python 3",
   "language": "python",
   "name": "python3"
  },
  "language_info": {
   "codemirror_mode": {
    "name": "ipython",
    "version": 3
   },
   "file_extension": ".py",
   "mimetype": "text/x-python",
   "name": "python",
   "nbconvert_exporter": "python",
   "pygments_lexer": "ipython3",
   "version": "3.6.6"
  }
 },
 "nbformat": 4,
 "nbformat_minor": 2
}
