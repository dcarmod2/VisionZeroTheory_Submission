{
 "cells": [
  {
   "cell_type": "markdown",
   "metadata": {},
   "source": [
    "### descriptive statistics for Vision Zero Code ###\n",
    "by Richard Sowers and Lucas Gong\n",
    "\n",
    "* <r-sowers@illinois.edu>\n",
    "* <shuog2@illinois.edu>\n",
    "\n",
    "<https://publish.illinois.edu/r-sowers/>\n",
    "\n",
    "Copyright 2018 University of Illinois Board of Trustees. All Rights Reserved. Licensed under the MIT license"
   ]
  },
  {
   "cell_type": "markdown",
   "metadata": {},
   "source": [
    "imports"
   ]
  },
  {
   "cell_type": "code",
   "execution_count": 1,
   "metadata": {
    "scrolled": true
   },
   "outputs": [],
   "source": [
    "from matplotlib import pylab as plotter\n",
    "%matplotlib inline\n",
    "import osmnx\n",
    "import networkx\n",
    "import pandas\n",
    "import numpy\n",
    "import datetime\n",
    "import importlib\n",
    "import MAIN_config_hour_of_day as config\n",
    "#import MAIN_config_seasons as config"
   ]
  },
  {
   "cell_type": "markdown",
   "metadata": {},
   "source": [
    "External files"
   ]
  },
  {
   "cell_type": "code",
   "execution_count": 2,
   "metadata": {},
   "outputs": [
    {
     "name": "stdout",
     "output_type": "stream",
     "text": [
      "Manhattan whole day\n"
     ]
    }
   ],
   "source": [
    "windower=config.windower()"
   ]
  },
  {
   "cell_type": "markdown",
   "metadata": {},
   "source": [
    "construct street network; G_raw is archival version"
   ]
  },
  {
   "cell_type": "code",
   "execution_count": 3,
   "metadata": {},
   "outputs": [],
   "source": [
    "osmnx.config(log_file=True, log_console=True, use_cache=True)"
   ]
  },
  {
   "cell_type": "code",
   "execution_count": 4,
   "metadata": {},
   "outputs": [],
   "source": [
    "G_raw = osmnx.graph_from_place('Manhattan Island, New York, USA', network_type='drive')"
   ]
  },
  {
   "cell_type": "markdown",
   "metadata": {},
   "source": [
    "copy from reference graph to usable graph"
   ]
  },
  {
   "cell_type": "code",
   "execution_count": 5,
   "metadata": {},
   "outputs": [],
   "source": [
    "G=networkx.DiGraph(G_raw)"
   ]
  },
  {
   "cell_type": "code",
   "execution_count": 6,
   "metadata": {},
   "outputs": [
    {
     "name": "stdout",
     "output_type": "stream",
     "text": [
      "there are 4468 nodes and 9683 edges in Manhattan\n"
     ]
    }
   ],
   "source": [
    "N_nodes=len(G.nodes)\n",
    "N_edges=len(G.edges)\n",
    "print(\"there are \"+str(N_nodes)+\" nodes and \"+str(N_edges)+\" edges in Manhattan\")"
   ]
  },
  {
   "cell_type": "code",
   "execution_count": 7,
   "metadata": {},
   "outputs": [],
   "source": [
    "def weekday(dt):\n",
    "    return dt.isoweekday()<=5\n",
    "    \n",
    "def in_manhattan(node):\n",
    "    return node in G.nodes"
   ]
  },
  {
   "cell_type": "markdown",
   "metadata": {},
   "source": [
    "## traveltime data ##"
   ]
  },
  {
   "cell_type": "code",
   "execution_count": 8,
   "metadata": {},
   "outputs": [],
   "source": [
    "traveltimes_raw=config.traveltimes()"
   ]
  },
  {
   "cell_type": "code",
   "execution_count": 9,
   "metadata": {},
   "outputs": [
    {
     "name": "stdout",
     "output_type": "stream",
     "text": [
      "         begin_node    end_node            datetime  travel_time  num_trips\n",
      "1403701    42434279    42443674 2012-12-26 23:00:00     14.36930        135\n",
      "1403702    42434237    42444835 2012-12-26 23:00:00     10.57470          3\n",
      "1403703  1372888616    42522888 2012-12-26 23:00:00      9.71205          3\n",
      "1403704    42434196  1773121034 2012-12-26 23:00:00     15.76400         50\n",
      "1403705   598622198   598622326 2012-12-26 23:00:00     14.67750          1\n"
     ]
    }
   ],
   "source": [
    "traveltimes=pandas.DataFrame(traveltimes_raw)\n",
    "print(traveltimes.head())"
   ]
  },
  {
   "cell_type": "code",
   "execution_count": 10,
   "metadata": {},
   "outputs": [
    {
     "name": "stdout",
     "output_type": "stream",
     "text": [
      "datetime range of traveltime data is [2012-01-06 00:00:00,2012-12-26 23:00:00]\n",
      "14243122 records total\n"
     ]
    }
   ],
   "source": [
    "t_min=min(traveltimes[\"datetime\"])\n",
    "t_max=max(traveltimes[\"datetime\"])\n",
    "print(\"datetime range of traveltime data is [\"+\n",
    "      str(t_min)+\",\"+str(t_max)+\"]\")\n",
    "print(str(len(traveltimes))+\" records total\")"
   ]
  },
  {
   "cell_type": "code",
   "execution_count": 11,
   "metadata": {},
   "outputs": [
    {
     "name": "stdout",
     "output_type": "stream",
     "text": [
      "there are 6108725 weekday records in Manhattan\n"
     ]
    }
   ],
   "source": [
    "# reduce traveltimes, but gradually\n",
    "flags=traveltimes[\"datetime\"].apply(weekday)\n",
    "traveltimes=traveltimes[flags]\n",
    "flags=traveltimes[\"begin_node\"].apply(in_manhattan)\n",
    "traveltimes=traveltimes[flags]\n",
    "flags=traveltimes[\"end_node\"].apply(in_manhattan)\n",
    "traveltimes=traveltimes[flags]\n",
    "print(\"there are \"+str(len(traveltimes))+\" weekday records in Manhattan\")"
   ]
  },
  {
   "cell_type": "code",
   "execution_count": 12,
   "metadata": {},
   "outputs": [
    {
     "name": "stdout",
     "output_type": "stream",
     "text": [
      "there are 8544 weekday hours in [2012-01-06 00:00:00,2012-12-26 23:00:00]\n"
     ]
    }
   ],
   "source": [
    "datetimerange=pandas.date_range(start=t_min, end=t_max, \n",
    "                                freq=datetime.timedelta(hours=1))\n",
    "datetimerange=datetimerange.map(weekday)\n",
    "print(\"there are \"+str(len(datetimerange))+\" weekday hours in [\"+str(t_min)+\n",
    "      \",\"+str(t_max)+\"]\")"
   ]
  },
  {
   "cell_type": "code",
   "execution_count": 13,
   "metadata": {},
   "outputs": [
    {
     "data": {
      "text/html": [
       "<div>\n",
       "<style scoped>\n",
       "    .dataframe tbody tr th:only-of-type {\n",
       "        vertical-align: middle;\n",
       "    }\n",
       "\n",
       "    .dataframe tbody tr th {\n",
       "        vertical-align: top;\n",
       "    }\n",
       "\n",
       "    .dataframe thead th {\n",
       "        text-align: right;\n",
       "    }\n",
       "</style>\n",
       "<table border=\"1\" class=\"dataframe\">\n",
       "  <thead>\n",
       "    <tr style=\"text-align: right;\">\n",
       "      <th></th>\n",
       "      <th>begin_node</th>\n",
       "      <th>end_node</th>\n",
       "      <th>datetime</th>\n",
       "      <th>travel_time</th>\n",
       "      <th>num_trips</th>\n",
       "      <th>hour</th>\n",
       "      <th>speed</th>\n",
       "    </tr>\n",
       "  </thead>\n",
       "  <tbody>\n",
       "    <tr>\n",
       "      <th>1403701</th>\n",
       "      <td>42434279</td>\n",
       "      <td>42443674</td>\n",
       "      <td>2012-12-26 23:00:00</td>\n",
       "      <td>14.36930</td>\n",
       "      <td>135</td>\n",
       "      <td>23</td>\n",
       "      <td>5.545155</td>\n",
       "    </tr>\n",
       "    <tr>\n",
       "      <th>1403702</th>\n",
       "      <td>42434237</td>\n",
       "      <td>42444835</td>\n",
       "      <td>2012-12-26 23:00:00</td>\n",
       "      <td>10.57470</td>\n",
       "      <td>3</td>\n",
       "      <td>23</td>\n",
       "      <td>6.941568</td>\n",
       "    </tr>\n",
       "    <tr>\n",
       "      <th>1403704</th>\n",
       "      <td>42434196</td>\n",
       "      <td>1773121034</td>\n",
       "      <td>2012-12-26 23:00:00</td>\n",
       "      <td>15.76400</td>\n",
       "      <td>50</td>\n",
       "      <td>23</td>\n",
       "      <td>NaN</td>\n",
       "    </tr>\n",
       "    <tr>\n",
       "      <th>1403706</th>\n",
       "      <td>42434233</td>\n",
       "      <td>42444833</td>\n",
       "      <td>2012-12-26 23:00:00</td>\n",
       "      <td>24.16290</td>\n",
       "      <td>17</td>\n",
       "      <td>23</td>\n",
       "      <td>3.039329</td>\n",
       "    </tr>\n",
       "    <tr>\n",
       "      <th>1403707</th>\n",
       "      <td>42434226</td>\n",
       "      <td>42444832</td>\n",
       "      <td>2012-12-26 23:00:00</td>\n",
       "      <td>8.02966</td>\n",
       "      <td>2</td>\n",
       "      <td>23</td>\n",
       "      <td>9.180214</td>\n",
       "    </tr>\n",
       "  </tbody>\n",
       "</table>\n",
       "</div>"
      ],
      "text/plain": [
       "         begin_node    end_node            datetime  travel_time  num_trips  \\\n",
       "1403701    42434279    42443674 2012-12-26 23:00:00     14.36930        135   \n",
       "1403702    42434237    42444835 2012-12-26 23:00:00     10.57470          3   \n",
       "1403704    42434196  1773121034 2012-12-26 23:00:00     15.76400         50   \n",
       "1403706    42434233    42444833 2012-12-26 23:00:00     24.16290         17   \n",
       "1403707    42434226    42444832 2012-12-26 23:00:00      8.02966          2   \n",
       "\n",
       "         hour     speed  \n",
       "1403701    23  5.545155  \n",
       "1403702    23  6.941568  \n",
       "1403704    23       NaN  \n",
       "1403706    23  3.039329  \n",
       "1403707    23  9.180214  "
      ]
     },
     "execution_count": 13,
     "metadata": {},
     "output_type": "execute_result"
    }
   ],
   "source": [
    "traveltimes[\"hour\"]=traveltimes[\"datetime\"].apply(lambda dt: dt.hour)\n",
    "\n",
    "def getspeed(row):\n",
    "    #print(row,flush=True)\n",
    "    try:\n",
    "        speed=G.edges[row[\"begin_node\"],row[\"end_node\"]][\"length\"]/row[\"travel_time\"]\n",
    "        return speed\n",
    "    except Exception:\n",
    "        return numpy.nan\n",
    "    \n",
    "traveltimes[\"speed\"]=traveltimes.apply(getspeed,axis=1)\n",
    "traveltimes.head()"
   ]
  },
  {
   "cell_type": "code",
   "execution_count": 14,
   "metadata": {},
   "outputs": [
    {
     "data": {
      "text/html": [
       "<div>\n",
       "<style scoped>\n",
       "    .dataframe tbody tr th:only-of-type {\n",
       "        vertical-align: middle;\n",
       "    }\n",
       "\n",
       "    .dataframe tbody tr th {\n",
       "        vertical-align: top;\n",
       "    }\n",
       "\n",
       "    .dataframe thead th {\n",
       "        text-align: right;\n",
       "    }\n",
       "</style>\n",
       "<table border=\"1\" class=\"dataframe\">\n",
       "  <thead>\n",
       "    <tr style=\"text-align: right;\">\n",
       "      <th></th>\n",
       "      <th></th>\n",
       "      <th></th>\n",
       "      <th>datetime</th>\n",
       "      <th>travel_time</th>\n",
       "      <th>num_trips</th>\n",
       "      <th>speed</th>\n",
       "    </tr>\n",
       "    <tr>\n",
       "      <th>begin_node</th>\n",
       "      <th>end_node</th>\n",
       "      <th>hour</th>\n",
       "      <th></th>\n",
       "      <th></th>\n",
       "      <th></th>\n",
       "      <th></th>\n",
       "    </tr>\n",
       "  </thead>\n",
       "  <tbody>\n",
       "    <tr>\n",
       "      <th>42434279</th>\n",
       "      <th>42443674</th>\n",
       "      <th>23</th>\n",
       "      <td>2012-12-26 23:00:00</td>\n",
       "      <td>14.36930</td>\n",
       "      <td>135</td>\n",
       "      <td>5.545155</td>\n",
       "    </tr>\n",
       "    <tr>\n",
       "      <th>42434237</th>\n",
       "      <th>42444835</th>\n",
       "      <th>23</th>\n",
       "      <td>2012-12-26 23:00:00</td>\n",
       "      <td>10.57470</td>\n",
       "      <td>3</td>\n",
       "      <td>6.941568</td>\n",
       "    </tr>\n",
       "    <tr>\n",
       "      <th>42434196</th>\n",
       "      <th>1773121034</th>\n",
       "      <th>23</th>\n",
       "      <td>2012-12-26 23:00:00</td>\n",
       "      <td>15.76400</td>\n",
       "      <td>50</td>\n",
       "      <td>NaN</td>\n",
       "    </tr>\n",
       "    <tr>\n",
       "      <th>42434233</th>\n",
       "      <th>42444833</th>\n",
       "      <th>23</th>\n",
       "      <td>2012-12-26 23:00:00</td>\n",
       "      <td>24.16290</td>\n",
       "      <td>17</td>\n",
       "      <td>3.039329</td>\n",
       "    </tr>\n",
       "    <tr>\n",
       "      <th>42434226</th>\n",
       "      <th>42444832</th>\n",
       "      <th>23</th>\n",
       "      <td>2012-12-26 23:00:00</td>\n",
       "      <td>8.02966</td>\n",
       "      <td>2</td>\n",
       "      <td>9.180214</td>\n",
       "    </tr>\n",
       "  </tbody>\n",
       "</table>\n",
       "</div>"
      ],
      "text/plain": [
       "                                      datetime  travel_time  num_trips  \\\n",
       "begin_node end_node   hour                                               \n",
       "42434279   42443674   23   2012-12-26 23:00:00     14.36930        135   \n",
       "42434237   42444835   23   2012-12-26 23:00:00     10.57470          3   \n",
       "42434196   1773121034 23   2012-12-26 23:00:00     15.76400         50   \n",
       "42434233   42444833   23   2012-12-26 23:00:00     24.16290         17   \n",
       "42434226   42444832   23   2012-12-26 23:00:00      8.02966          2   \n",
       "\n",
       "                               speed  \n",
       "begin_node end_node   hour            \n",
       "42434279   42443674   23    5.545155  \n",
       "42434237   42444835   23    6.941568  \n",
       "42434196   1773121034 23         NaN  \n",
       "42434233   42444833   23    3.039329  \n",
       "42434226   42444832   23    9.180214  "
      ]
     },
     "execution_count": 14,
     "metadata": {},
     "output_type": "execute_result"
    }
   ],
   "source": [
    "traveltimes.set_index([\"begin_node\",\"end_node\",\"hour\"],drop=True,inplace=True)\n",
    "traveltimes.head()"
   ]
  },
  {
   "cell_type": "code",
   "execution_count": 15,
   "metadata": {},
   "outputs": [
    {
     "name": "stdout",
     "output_type": "stream",
     "text": [
      "there are 172067 OD-hour records\n"
     ]
    }
   ],
   "source": [
    "temp=traveltimes.groupby(level=[\"begin_node\",\"end_node\",\"hour\"])\n",
    "print(\"there are \"+str(len(temp))+\" OD-hour records\")"
   ]
  },
  {
   "cell_type": "code",
   "execution_count": 37,
   "metadata": {},
   "outputs": [
    {
     "name": "stdout",
     "output_type": "stream",
     "text": [
      "hour\n",
      "0    259948\n",
      "1    240372\n",
      "2    220762\n",
      "3    204083\n",
      "4    200847\n",
      "dtype: int64\n"
     ]
    },
    {
     "data": {
      "image/png": "[encoded data removed]",
      "text/plain": [
       "<Figure size 432x288 with 1 Axes>"
      ]
     },
     "metadata": {},
     "output_type": "display_data"
    }
   ],
   "source": [
    "temp=traveltimes.groupby(level=\"hour\").size()\n",
    "print(temp.head())\n",
    "plotter.figure()\n",
    "#Diff.hist(range)\n",
    "width=0.8\n",
    "plotter.bar(temp.index-width/2,\n",
    "            numpy.array(temp),width=width)\n",
    "title=\"Travel time estimate count\"\n",
    "plotter.xlim((-width,24))\n",
    "plotter.title(title,fontsize='xx-large')\n",
    "plotter.xlabel(\"hour of day\",fontsize='medium')\n",
    "plotter.ylabel(\"count\",fontsize='medium')\n",
    "plotter.savefig(\"images/traveltime_count.png\",bbox_inches='tight')\n",
    "plotter.show()\n",
    "plotter.close()\n"
   ]
  },
  {
   "cell_type": "code",
   "execution_count": 38,
   "metadata": {},
   "outputs": [
    {
     "name": "stdout",
     "output_type": "stream",
     "text": [
      "hour\n",
      "0    7.765044\n",
      "1    8.145218\n",
      "2    8.555981\n",
      "3    8.705359\n",
      "4    9.250491\n",
      "Name: speed, dtype: float64\n"
     ]
    },
    {
     "data": {
      "image/png": "[encoded data removed]",
      "text/plain": [
       "<Figure size 432x288 with 1 Axes>"
      ]
     },
     "metadata": {},
     "output_type": "display_data"
    }
   ],
   "source": [
    "temp=traveltimes[\"speed\"].groupby(level=\"hour\").mean()\n",
    "print(temp.head())\n",
    "plotter.figure()\n",
    "width=0.8\n",
    "plotter.bar(temp.index-width/2,\n",
    "            numpy.array(temp),\n",
    "           width=width)\n",
    "title=\"Estimated citywide speed\"\n",
    "plotter.title(title,fontsize='xx-large')\n",
    "plotter.xlim((-width,24))\n",
    "plotter.xlabel(\"hour of day\",fontsize='medium')\n",
    "plotter.ylabel(\"speed (m/sec)\",fontsize='medium')\n",
    "plotter.savefig(\"images/estimated_speed.png\",bbox_inches='tight')\n",
    "plotter.show()\n",
    "plotter.close()\n"
   ]
  },
  {
   "cell_type": "markdown",
   "metadata": {},
   "source": [
    "## accident data ##"
   ]
  },
  {
   "cell_type": "code",
   "execution_count": 18,
   "metadata": {},
   "outputs": [],
   "source": [
    "accidents_raw=config.accidents()"
   ]
  },
  {
   "cell_type": "code",
   "execution_count": 19,
   "metadata": {},
   "outputs": [
    {
     "name": "stdout",
     "output_type": "stream",
     "text": [
      "       node            datetime\n",
      "0  42433712 2015-09-16 07:40:00\n",
      "1  42433715 2015-10-07 17:50:00\n",
      "2  42433715 2015-10-30 17:13:00\n",
      "3  42427412 2015-01-18 12:00:00\n",
      "4  42427412 2015-08-06 08:00:00\n"
     ]
    }
   ],
   "source": [
    "accidents=pandas.DataFrame(accidents_raw)\n",
    "print(accidents.head())"
   ]
  },
  {
   "cell_type": "code",
   "execution_count": 20,
   "metadata": {},
   "outputs": [
    {
     "name": "stdout",
     "output_type": "stream",
     "text": [
      "datetime range of accident data is [2014-01-01 00:01:00,2017-12-31 23:40:00]\n",
      "144263 accidents \n",
      "4.114317819166002 accidents/hour on average\n"
     ]
    }
   ],
   "source": [
    "t_min=min(accidents[\"datetime\"])\n",
    "t_max=max(accidents[\"datetime\"])\n",
    "print(\"datetime range of accident data is [\"+\n",
    "      str(t_min)+\",\"+str(t_max)+\"]\")\n",
    "print(str(len(accidents))+\" accidents \")\n",
    "accident_frequency=len(accidents)/((t_max-t_min)/datetime.timedelta(hours=1))\n",
    "print(str(accident_frequency)+\" accidents/hour on average\")"
   ]
  },
  {
   "cell_type": "code",
   "execution_count": 21,
   "metadata": {},
   "outputs": [
    {
     "name": "stdout",
     "output_type": "stream",
     "text": [
      "there are 108659 weekday accidents in Manhattan\n"
     ]
    }
   ],
   "source": [
    "# reduce accidents, but gradually\n",
    "flags=accidents[\"datetime\"].map(weekday)\n",
    "accidents=accidents[flags]\n",
    "flags=accidents[\"node\"].map(in_manhattan)\n",
    "accidents=accidents[flags]\n",
    "print(\"there are \"+str(len(accidents))+\" weekday accidents in Manhattan\")"
   ]
  },
  {
   "cell_type": "code",
   "execution_count": 22,
   "metadata": {},
   "outputs": [
    {
     "name": "stdout",
     "output_type": "stream",
     "text": [
      "3733 unique accident locations\n"
     ]
    }
   ],
   "source": [
    "temp=pandas.unique(accidents[\"node\"])\n",
    "print(str(len(temp))+\" unique accident locations\")"
   ]
  },
  {
   "cell_type": "code",
   "execution_count": 23,
   "metadata": {},
   "outputs": [],
   "source": [
    "accidents[\"hour\"]=accidents[\"datetime\"].map(lambda dt: dt.hour)\n",
    "accidents.set_index(\"hour\",drop=True,inplace=True)"
   ]
  },
  {
   "cell_type": "code",
   "execution_count": 39,
   "metadata": {},
   "outputs": [
    {
     "data": {
      "image/png": "[encoded data removed]",
      "text/plain": [
       "<Figure size 432x288 with 1 Axes>"
      ]
     },
     "metadata": {},
     "output_type": "display_data"
    }
   ],
   "source": [
    "temp=accidents.groupby(level=\"hour\").size()\n",
    "temp.head()\n",
    "plotter.figure()\n",
    "width=0.8\n",
    "plotter.bar(temp.index-width/2,\n",
    "            numpy.array(temp),\n",
    "           width=width)\n",
    "title=\"Accidents by hour\"\n",
    "plotter.title(title,fontsize='xx-large')\n",
    "plotter.xlim((-width,24))\n",
    "plotter.xlabel(\"hour of day\",fontsize='medium')\n",
    "plotter.ylabel(\"count\",fontsize='medium')\n",
    "plotter.savefig(\"images/accident_count.png\",bbox_inches='tight')\n",
    "plotter.show()\n",
    "plotter.close()"
   ]
  },
  {
   "cell_type": "markdown",
   "metadata": {},
   "source": [
    "### trip data ###"
   ]
  },
  {
   "cell_type": "code",
   "execution_count": 27,
   "metadata": {},
   "outputs": [],
   "source": [
    "trips_raw=config.trips()"
   ]
  },
  {
   "cell_type": "code",
   "execution_count": 28,
   "metadata": {},
   "outputs": [
    {
     "name": "stdout",
     "output_type": "stream",
     "text": [
      "      origin_datetime destination_datetime  origin_node  destination_node\n",
      "0 2016-03-03 17:49:00  2016-03-03 18:11:00   4163883691          42435675\n",
      "1 2016-03-05 15:03:00  2016-03-05 15:28:00     42435310          42440710\n",
      "2 2016-03-19 02:14:00  2016-03-19 02:27:00     42430122          42430691\n",
      "3 2016-03-07 08:01:00  2016-03-07 08:12:00     42446998          42446701\n",
      "4 2016-03-11 17:10:00  2016-03-11 17:23:00     42457476          42435518\n"
     ]
    }
   ],
   "source": [
    "trips=pandas.DataFrame(trips_raw)\n",
    "print(trips.head())"
   ]
  },
  {
   "cell_type": "code",
   "execution_count": 29,
   "metadata": {},
   "outputs": [
    {
     "name": "stdout",
     "output_type": "stream",
     "text": [
      "datetime range of trip origin_datetime is [2016-03-01 00:00:00,2016-03-30 23:58:00]\n",
      "209746 trips \n"
     ]
    }
   ],
   "source": [
    "t_min=min(trips[\"origin_datetime\"])\n",
    "t_max=max(trips[\"origin_datetime\"])\n",
    "print(\"datetime range of trip origin_datetime is [\"+\n",
    "      str(t_min)+\",\"+str(t_max)+\"]\")\n",
    "print(str(len(trips))+\" trips \")"
   ]
  },
  {
   "cell_type": "code",
   "execution_count": 30,
   "metadata": {},
   "outputs": [
    {
     "name": "stdout",
     "output_type": "stream",
     "text": [
      "there are 153116 weekday trips in Manhattan\n"
     ]
    }
   ],
   "source": [
    "# reduce trips, but gradually\n",
    "flags=trips[\"origin_datetime\"].map(weekday)\n",
    "trips=trips[flags]\n",
    "flags=trips[\"origin_node\"].map(in_manhattan)\n",
    "trips=trips[flags]\n",
    "flags=trips[\"destination_node\"].map(in_manhattan)\n",
    "trips=trips[flags]\n",
    "print(\"there are \"+str(len(trips))+\" weekday trips in Manhattan\")"
   ]
  },
  {
   "cell_type": "code",
   "execution_count": 31,
   "metadata": {},
   "outputs": [
    {
     "data": {
      "image/png": "[encoded data removed]",
      "text/plain": [
       "<Figure size 432x288 with 1 Axes>"
      ]
     },
     "metadata": {},
     "output_type": "display_data"
    }
   ],
   "source": [
    "temp=(trips[\"destination_datetime\"]-\n",
    "                         trips[\"origin_datetime\"])/datetime.timedelta(minutes=1)\n",
    "plotter.figure()\n",
    "plotter.hist(temp,range=(0,60),bins=50)\n",
    "title=\"Histogram of length of trip duration\"\n",
    "plotter.title(title,fontsize=\"xx-large\")\n",
    "plotter.xlabel(\"minutes\",fontsize=\"medium\")\n",
    "plotter.ylabel(\"count\",fontsize=\"medium\")\n",
    "plotter.show()\n",
    "plotter.close()"
   ]
  },
  {
   "cell_type": "code",
   "execution_count": 32,
   "metadata": {},
   "outputs": [
    {
     "data": {
      "text/html": [
       "<div>\n",
       "<style scoped>\n",
       "    .dataframe tbody tr th:only-of-type {\n",
       "        vertical-align: middle;\n",
       "    }\n",
       "\n",
       "    .dataframe tbody tr th {\n",
       "        vertical-align: top;\n",
       "    }\n",
       "\n",
       "    .dataframe thead th {\n",
       "        text-align: right;\n",
       "    }\n",
       "</style>\n",
       "<table border=\"1\" class=\"dataframe\">\n",
       "  <thead>\n",
       "    <tr style=\"text-align: right;\">\n",
       "      <th></th>\n",
       "      <th></th>\n",
       "      <th></th>\n",
       "      <th>origin_datetime</th>\n",
       "      <th>destination_datetime</th>\n",
       "    </tr>\n",
       "    <tr>\n",
       "      <th>origin_hour</th>\n",
       "      <th>origin_node</th>\n",
       "      <th>destination_node</th>\n",
       "      <th></th>\n",
       "      <th></th>\n",
       "    </tr>\n",
       "  </thead>\n",
       "  <tbody>\n",
       "    <tr>\n",
       "      <th>17</th>\n",
       "      <th>4163883691</th>\n",
       "      <th>42435675</th>\n",
       "      <td>2016-03-03 17:49:00</td>\n",
       "      <td>2016-03-03 18:11:00</td>\n",
       "    </tr>\n",
       "    <tr>\n",
       "      <th>8</th>\n",
       "      <th>42446998</th>\n",
       "      <th>42446701</th>\n",
       "      <td>2016-03-07 08:01:00</td>\n",
       "      <td>2016-03-07 08:12:00</td>\n",
       "    </tr>\n",
       "    <tr>\n",
       "      <th>17</th>\n",
       "      <th>42457476</th>\n",
       "      <th>42435518</th>\n",
       "      <td>2016-03-11 17:10:00</td>\n",
       "      <td>2016-03-11 17:23:00</td>\n",
       "    </tr>\n",
       "    <tr>\n",
       "      <th>19</th>\n",
       "      <th>42451375</th>\n",
       "      <th>42449613</th>\n",
       "      <td>2016-03-16 19:58:00</td>\n",
       "      <td>2016-03-16 20:03:00</td>\n",
       "    </tr>\n",
       "    <tr>\n",
       "      <th>23</th>\n",
       "      <th>42428444</th>\n",
       "      <th>42456060</th>\n",
       "      <td>2016-03-08 23:29:00</td>\n",
       "      <td>2016-03-08 23:48:00</td>\n",
       "    </tr>\n",
       "  </tbody>\n",
       "</table>\n",
       "</div>"
      ],
      "text/plain": [
       "                                             origin_datetime  \\\n",
       "origin_hour origin_node destination_node                       \n",
       "17          4163883691  42435675         2016-03-03 17:49:00   \n",
       "8           42446998    42446701         2016-03-07 08:01:00   \n",
       "17          42457476    42435518         2016-03-11 17:10:00   \n",
       "19          42451375    42449613         2016-03-16 19:58:00   \n",
       "23          42428444    42456060         2016-03-08 23:29:00   \n",
       "\n",
       "                                         destination_datetime  \n",
       "origin_hour origin_node destination_node                       \n",
       "17          4163883691  42435675          2016-03-03 18:11:00  \n",
       "8           42446998    42446701          2016-03-07 08:12:00  \n",
       "17          42457476    42435518          2016-03-11 17:23:00  \n",
       "19          42451375    42449613          2016-03-16 20:03:00  \n",
       "23          42428444    42456060          2016-03-08 23:48:00  "
      ]
     },
     "execution_count": 32,
     "metadata": {},
     "output_type": "execute_result"
    }
   ],
   "source": [
    "trips[\"origin_hour\"]=trips[\"origin_datetime\"].apply(lambda dt: dt.hour)\n",
    "trips.set_index([\"origin_hour\",\"origin_node\",\"destination_node\"],\n",
    "                drop=True,inplace=True)\n",
    "trips.head()"
   ]
  },
  {
   "cell_type": "code",
   "execution_count": 33,
   "metadata": {},
   "outputs": [
    {
     "name": "stdout",
     "output_type": "stream",
     "text": [
      "138631 unique trips\n"
     ]
    }
   ],
   "source": [
    "temp=trips.groupby(level=[\"origin_node\",\"destination_node\"])\n",
    "print(str(len(temp))+\" unique trips\")"
   ]
  },
  {
   "cell_type": "code",
   "execution_count": 40,
   "metadata": {},
   "outputs": [
    {
     "data": {
      "image/png": "[encoded data removed]",
      "text/plain": [
       "<Figure size 432x288 with 1 Axes>"
      ]
     },
     "metadata": {},
     "output_type": "display_data"
    }
   ],
   "source": [
    "temp=trips.groupby(level=\"origin_hour\").size()\n",
    "temp.head()\n",
    "plotter.figure()\n",
    "width=0.8\n",
    "plotter.bar(temp.index-width/2,\n",
    "            numpy.array(temp),\n",
    "           width=width)\n",
    "title=\"Trip count by hour\"\n",
    "plotter.title(title,fontsize=\"xx-large\")\n",
    "plotter.xlim((-width,24))\n",
    "plotter.xlabel(\"hour of day\",fontsize=\"medium\")\n",
    "plotter.ylabel(\"count\",fontsize=\"medium\")\n",
    "plotter.savefig(\"images/trip_count_by_hour.png\",bbox_inches='tight')\n",
    "plotter.show()\n",
    "plotter.close()"
   ]
  },
  {
   "cell_type": "code",
   "execution_count": null,
   "metadata": {},
   "outputs": [],
   "source": []
  },
  {
   "cell_type": "code",
   "execution_count": null,
   "metadata": {},
   "outputs": [],
   "source": []
  }
 ],
 "metadata": {
  "kernelspec": {
   "display_name": "Python 3",
   "language": "python",
   "name": "python3"
  },
  "language_info": {
   "codemirror_mode": {
    "name": "ipython",
    "version": 3
   },
   "file_extension": ".py",
   "mimetype": "text/x-python",
   "name": "python",
   "nbconvert_exporter": "python",
   "pygments_lexer": "ipython3",
   "version": "3.6.5"
  }
 },
 "nbformat": 4,
 "nbformat_minor": 2
}
